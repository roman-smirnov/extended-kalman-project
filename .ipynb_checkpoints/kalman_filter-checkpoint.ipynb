{
 "cells": [
  {
   "cell_type": "markdown",
   "metadata": {},
   "source": [
    "# Extended Kalman Filter "
   ]
  },
  {
   "cell_type": "code",
   "execution_count": 2,
   "metadata": {},
   "outputs": [],
   "source": [
    "import pandas as pd\n",
    "import matplotlib.pyplot as plt\n",
    "import numpy as np\n",
    "import math"
   ]
  },
  {
   "cell_type": "code",
   "execution_count": 3,
   "metadata": {},
   "outputs": [],
   "source": [
    "from jupyterthemes import jtplot\n",
    "jtplot.style()"
   ]
  },
  {
   "cell_type": "code",
   "execution_count": 4,
   "metadata": {},
   "outputs": [],
   "source": [
    "with open('./data/obj_pose-laser-radar-synthetic-input.txt') as f:\n",
    "    data = pd.read_table(f, sep='\\t', header=None, names=['c'+str(i) for i in range(11)], lineterminator='\\n')"
   ]
  },
  {
   "cell_type": "code",
   "execution_count": 421,
   "metadata": {},
   "outputs": [
    {
     "data": {
      "text/html": [
       "<div>\n",
       "<style scoped>\n",
       "    .dataframe tbody tr th:only-of-type {\n",
       "        vertical-align: middle;\n",
       "    }\n",
       "\n",
       "    .dataframe tbody tr th {\n",
       "        vertical-align: top;\n",
       "    }\n",
       "\n",
       "    .dataframe thead th {\n",
       "        text-align: right;\n",
       "    }\n",
       "</style>\n",
       "<table border=\"1\" class=\"dataframe\">\n",
       "  <thead>\n",
       "    <tr style=\"text-align: right;\">\n",
       "      <th></th>\n",
       "      <th>sensor_type</th>\n",
       "      <th>rho_measured</th>\n",
       "      <th>phi_measured</th>\n",
       "      <th>rhodot_measured</th>\n",
       "      <th>timestamp</th>\n",
       "      <th>x_groundtruth</th>\n",
       "      <th>y_groundtruth</th>\n",
       "      <th>vx_groundtruth</th>\n",
       "      <th>vy_groundtruth</th>\n",
       "      <th>yaw_groundtruth</th>\n",
       "      <th>yawrate_groundtruth</th>\n",
       "    </tr>\n",
       "  </thead>\n",
       "  <tbody>\n",
       "    <tr>\n",
       "      <th>1</th>\n",
       "      <td>R</td>\n",
       "      <td>1.014892</td>\n",
       "      <td>0.554329</td>\n",
       "      <td>4.892807</td>\n",
       "      <td>1.477010e+15</td>\n",
       "      <td>0.859997</td>\n",
       "      <td>0.600045</td>\n",
       "      <td>5.199747</td>\n",
       "      <td>0.001797</td>\n",
       "      <td>0.000346</td>\n",
       "      <td>0.013822</td>\n",
       "    </tr>\n",
       "    <tr>\n",
       "      <th>3</th>\n",
       "      <td>R</td>\n",
       "      <td>1.047505</td>\n",
       "      <td>0.389240</td>\n",
       "      <td>4.511325</td>\n",
       "      <td>1.477010e+15</td>\n",
       "      <td>1.379955</td>\n",
       "      <td>0.600629</td>\n",
       "      <td>5.198979</td>\n",
       "      <td>0.010778</td>\n",
       "      <td>0.002073</td>\n",
       "      <td>0.027634</td>\n",
       "    </tr>\n",
       "    <tr>\n",
       "      <th>5</th>\n",
       "      <td>R</td>\n",
       "      <td>1.698300</td>\n",
       "      <td>0.298280</td>\n",
       "      <td>5.209986</td>\n",
       "      <td>1.477010e+15</td>\n",
       "      <td>1.899823</td>\n",
       "      <td>0.602470</td>\n",
       "      <td>5.197661</td>\n",
       "      <td>0.026932</td>\n",
       "      <td>0.005182</td>\n",
       "      <td>0.041430</td>\n",
       "    </tr>\n",
       "    <tr>\n",
       "      <th>7</th>\n",
       "      <td>R</td>\n",
       "      <td>2.044382</td>\n",
       "      <td>0.276002</td>\n",
       "      <td>5.043867</td>\n",
       "      <td>1.477010e+15</td>\n",
       "      <td>2.419540</td>\n",
       "      <td>0.606284</td>\n",
       "      <td>5.195728</td>\n",
       "      <td>0.050239</td>\n",
       "      <td>0.009669</td>\n",
       "      <td>0.055199</td>\n",
       "    </tr>\n",
       "    <tr>\n",
       "      <th>9</th>\n",
       "      <td>R</td>\n",
       "      <td>2.990916</td>\n",
       "      <td>0.217668</td>\n",
       "      <td>5.191807</td>\n",
       "      <td>1.477010e+15</td>\n",
       "      <td>2.939043</td>\n",
       "      <td>0.612786</td>\n",
       "      <td>5.193090</td>\n",
       "      <td>0.080668</td>\n",
       "      <td>0.015532</td>\n",
       "      <td>0.068933</td>\n",
       "    </tr>\n",
       "  </tbody>\n",
       "</table>\n",
       "</div>"
      ],
      "text/plain": [
       "  sensor_type  rho_measured  phi_measured  rhodot_measured     timestamp  \\\n",
       "1           R      1.014892      0.554329         4.892807  1.477010e+15   \n",
       "3           R      1.047505      0.389240         4.511325  1.477010e+15   \n",
       "5           R      1.698300      0.298280         5.209986  1.477010e+15   \n",
       "7           R      2.044382      0.276002         5.043867  1.477010e+15   \n",
       "9           R      2.990916      0.217668         5.191807  1.477010e+15   \n",
       "\n",
       "   x_groundtruth  y_groundtruth  vx_groundtruth  vy_groundtruth  \\\n",
       "1       0.859997       0.600045        5.199747        0.001797   \n",
       "3       1.379955       0.600629        5.198979        0.010778   \n",
       "5       1.899823       0.602470        5.197661        0.026932   \n",
       "7       2.419540       0.606284        5.195728        0.050239   \n",
       "9       2.939043       0.612786        5.193090        0.080668   \n",
       "\n",
       "   yaw_groundtruth  yawrate_groundtruth  \n",
       "1         0.000346             0.013822  \n",
       "3         0.002073             0.027634  \n",
       "5         0.005182             0.041430  \n",
       "7         0.009669             0.055199  \n",
       "9         0.015532             0.068933  "
      ]
     },
     "execution_count": 421,
     "metadata": {},
     "output_type": "execute_result"
    }
   ],
   "source": [
    "radar = data[data.c0=='R']\n",
    "radar.columns = ['sensor_type', 'rho_measured', 'phi_measured', 'rhodot_measured', 'timestamp', 'x_groundtruth', 'y_groundtruth', 'vx_groundtruth', 'vy_groundtruth', 'yaw_groundtruth', 'yawrate_groundtruth']\n",
    "radar[:5]"
   ]
  },
  {
   "cell_type": "code",
   "execution_count": 6,
   "metadata": {},
   "outputs": [
    {
     "data": {
      "text/html": [
       "<div>\n",
       "<style scoped>\n",
       "    .dataframe tbody tr th:only-of-type {\n",
       "        vertical-align: middle;\n",
       "    }\n",
       "\n",
       "    .dataframe tbody tr th {\n",
       "        vertical-align: top;\n",
       "    }\n",
       "\n",
       "    .dataframe thead th {\n",
       "        text-align: right;\n",
       "    }\n",
       "</style>\n",
       "<table border=\"1\" class=\"dataframe\">\n",
       "  <thead>\n",
       "    <tr style=\"text-align: right;\">\n",
       "      <th></th>\n",
       "      <th>sensor_type</th>\n",
       "      <th>x_measured</th>\n",
       "      <th>y_measured</th>\n",
       "      <th>timestamp</th>\n",
       "      <th>x_groundtruth</th>\n",
       "      <th>y_groundtruth</th>\n",
       "      <th>vx_groundtruth</th>\n",
       "      <th>vy_groundtruth</th>\n",
       "      <th>yaw_groundtruth</th>\n",
       "      <th>yawrate_groundtruth</th>\n",
       "    </tr>\n",
       "  </thead>\n",
       "  <tbody>\n",
       "    <tr>\n",
       "      <th>0</th>\n",
       "      <td>L</td>\n",
       "      <td>0.312243</td>\n",
       "      <td>0.580340</td>\n",
       "      <td>1.477010e+15</td>\n",
       "      <td>0.600000</td>\n",
       "      <td>0.600000</td>\n",
       "      <td>5.199937</td>\n",
       "      <td>0.000000</td>\n",
       "      <td>0.000000</td>\n",
       "      <td>0.006911</td>\n",
       "    </tr>\n",
       "    <tr>\n",
       "      <th>2</th>\n",
       "      <td>L</td>\n",
       "      <td>1.173848</td>\n",
       "      <td>0.481073</td>\n",
       "      <td>1.477010e+15</td>\n",
       "      <td>1.119984</td>\n",
       "      <td>0.600225</td>\n",
       "      <td>5.199429</td>\n",
       "      <td>0.005390</td>\n",
       "      <td>0.001037</td>\n",
       "      <td>0.020730</td>\n",
       "    </tr>\n",
       "    <tr>\n",
       "      <th>4</th>\n",
       "      <td>L</td>\n",
       "      <td>1.650626</td>\n",
       "      <td>0.624690</td>\n",
       "      <td>1.477010e+15</td>\n",
       "      <td>1.639904</td>\n",
       "      <td>0.601347</td>\n",
       "      <td>5.198392</td>\n",
       "      <td>0.017960</td>\n",
       "      <td>0.003455</td>\n",
       "      <td>0.034535</td>\n",
       "    </tr>\n",
       "    <tr>\n",
       "      <th>6</th>\n",
       "      <td>L</td>\n",
       "      <td>2.188824</td>\n",
       "      <td>0.648739</td>\n",
       "      <td>1.477010e+15</td>\n",
       "      <td>2.159704</td>\n",
       "      <td>0.604085</td>\n",
       "      <td>5.196776</td>\n",
       "      <td>0.037693</td>\n",
       "      <td>0.007253</td>\n",
       "      <td>0.048318</td>\n",
       "    </tr>\n",
       "    <tr>\n",
       "      <th>8</th>\n",
       "      <td>L</td>\n",
       "      <td>2.655256</td>\n",
       "      <td>0.665980</td>\n",
       "      <td>1.477010e+15</td>\n",
       "      <td>2.679323</td>\n",
       "      <td>0.609155</td>\n",
       "      <td>5.194504</td>\n",
       "      <td>0.064565</td>\n",
       "      <td>0.012429</td>\n",
       "      <td>0.062071</td>\n",
       "    </tr>\n",
       "  </tbody>\n",
       "</table>\n",
       "</div>"
      ],
      "text/plain": [
       "  sensor_type  x_measured  y_measured     timestamp  x_groundtruth  \\\n",
       "0           L    0.312243    0.580340  1.477010e+15       0.600000   \n",
       "2           L    1.173848    0.481073  1.477010e+15       1.119984   \n",
       "4           L    1.650626    0.624690  1.477010e+15       1.639904   \n",
       "6           L    2.188824    0.648739  1.477010e+15       2.159704   \n",
       "8           L    2.655256    0.665980  1.477010e+15       2.679323   \n",
       "\n",
       "   y_groundtruth  vx_groundtruth  vy_groundtruth  yaw_groundtruth  \\\n",
       "0       0.600000        5.199937        0.000000         0.000000   \n",
       "2       0.600225        5.199429        0.005390         0.001037   \n",
       "4       0.601347        5.198392        0.017960         0.003455   \n",
       "6       0.604085        5.196776        0.037693         0.007253   \n",
       "8       0.609155        5.194504        0.064565         0.012429   \n",
       "\n",
       "   yawrate_groundtruth  \n",
       "0             0.006911  \n",
       "2             0.020730  \n",
       "4             0.034535  \n",
       "6             0.048318  \n",
       "8             0.062071  "
      ]
     },
     "execution_count": 6,
     "metadata": {},
     "output_type": "execute_result"
    }
   ],
   "source": [
    "laser = data[data.c0=='L'].loc[:,:'c9']\n",
    "laser.columns = ['sensor_type', 'x_measured', 'y_measured', 'timestamp', 'x_groundtruth', 'y_groundtruth', 'vx_groundtruth', 'vy_groundtruth', 'yaw_groundtruth','yawrate_groundtruth']\n",
    "laser[:3]"
   ]
  },
  {
   "cell_type": "markdown",
   "metadata": {},
   "source": [
    "## Laser"
   ]
  },
  {
   "cell_type": "markdown",
   "metadata": {},
   "source": [
    "#### Ground Truth X,Y"
   ]
  },
  {
   "cell_type": "code",
   "execution_count": 372,
   "metadata": {},
   "outputs": [
    {
     "data": {
      "image/png": "[encoded data removed]",
      "text/plain": [
       "<Figure size 432x288 with 1 Axes>"
      ]
     },
     "metadata": {},
     "output_type": "display_data"
    }
   ],
   "source": [
    "plt.scatter(laser.x_groundtruth, laser.y_groundtruth);"
   ]
  },
  {
   "cell_type": "markdown",
   "metadata": {},
   "source": [
    "#### Measurement X,Y"
   ]
  },
  {
   "cell_type": "code",
   "execution_count": 373,
   "metadata": {},
   "outputs": [
    {
     "data": {
      "text/plain": [
       "<matplotlib.collections.PathCollection at 0x11e8bef98>"
      ]
     },
     "execution_count": 373,
     "metadata": {},
     "output_type": "execute_result"
    },
    {
     "data": {
      "image/png": "[encoded data removed]",
      "text/plain": [
       "<Figure size 432x288 with 1 Axes>"
      ]
     },
     "metadata": {},
     "output_type": "display_data"
    }
   ],
   "source": [
    "plt.scatter(laser.x_measured, laser.y_measured)"
   ]
  },
  {
   "cell_type": "markdown",
   "metadata": {},
   "source": [
    "Ground Truth VX,VY"
   ]
  },
  {
   "cell_type": "code",
   "execution_count": 374,
   "metadata": {},
   "outputs": [
    {
     "data": {
      "image/png": "[encoded data removed]",
      "text/plain": [
       "<Figure size 432x288 with 1 Axes>"
      ]
     },
     "metadata": {},
     "output_type": "display_data"
    }
   ],
   "source": [
    "plt.scatter(laser.vx_groundtruth, laser.vy_groundtruth);"
   ]
  },
  {
   "cell_type": "markdown",
   "metadata": {},
   "source": [
    "## Radar"
   ]
  },
  {
   "cell_type": "markdown",
   "metadata": {},
   "source": [
    "Measured vs groundtruth X,Y"
   ]
  },
  {
   "cell_type": "code",
   "execution_count": 660,
   "metadata": {},
   "outputs": [
    {
     "data": {
      "image/png": "[encoded data removed]",
      "text/plain": [
       "<Figure size 432x288 with 1 Axes>"
      ]
     },
     "metadata": {},
     "output_type": "display_data"
    }
   ],
   "source": [
    "x = radar.rho_measured*np.cos(radar.phi_measured)\n",
    "y = radar.rho_measured*np.sin(radar.phi_measured)\n",
    "plt.scatter(x,y, marker='.');\n",
    "plt.scatter(radar.x_groundtruth, radar.y_groundtruth, marker='.');"
   ]
  },
  {
   "cell_type": "markdown",
   "metadata": {},
   "source": [
    "## Sensor Fusion"
   ]
  },
  {
   "cell_type": "markdown",
   "metadata": {},
   "source": [
    "#### Setup Kalman Filter Matrices"
   ]
  },
  {
   "cell_type": "code",
   "execution_count": 270,
   "metadata": {},
   "outputs": [
    {
     "data": {
      "text/plain": [
       "14"
      ]
     },
     "execution_count": 270,
     "metadata": {},
     "output_type": "execute_result"
    }
   ],
   "source": [
    "# measurement uncertainty covariance\n",
    "R_laser = np.identity(2)*0.0225\n",
    "R_radar = np.identity(3)*0.09\n",
    "\n",
    "# measurement function\n",
    "H_laser = np.identity(4)[:-2]\n",
    "\n",
    "dt = 0.05\n",
    "F = np.identity(4)+np.pad(np.identity(2)*dt,[(0,2),(2,0)], mode='constant')  # transition\n",
    "# process noise uncertainty\n",
    "G = np.array([[dt**2/2,0],[0,dt**2/2],[dt,0], [0,dt]])\n",
    "Q_noise = np.array([[5,0],[0,5]])\n",
    "Q = G @ Q_noise @ G.T\n",
    "print('I\\n', I, '\\n\\nH\\n', H, '\\n\\nF\\n', F, '\\n\\nR\\n', R ,'\\n\\nQ\\n', Q)"
   ]
  },
  {
   "cell_type": "code",
   "execution_count": 242,
   "metadata": {},
   "outputs": [],
   "source": [
    "measurements = []\n",
    "for row in data.iterrows():\n",
    "    if row.c0 == 'R':\n",
    "        meas = row.c1*np.array([[np.cos(row.c2)],[np.sin(row.c2)]])\n",
    "        c1 = np.sum(meas**2)\n",
    "        c2 = np.sqrt(c1)\n",
    "        c3 = (c1*c2)\n",
    "        x,y = meas\n",
    "        Hj = np.array([[x/c2, y/c2, 0 ,0 ],\n",
    "                       [-y/c1, x/c1, 0, 0],\n",
    "                      []])\n",
    "\n",
    "#   // check division by zero\n",
    "#   if (fabs(c1) < 0.0001) {\n",
    "#     cout << \"CalculateJacobian () - Error - Division by Zero\" << endl;\n",
    "#     return Hj;\n",
    "#   }\n",
    "\n",
    "#   // compute the Jacobian matrix\n",
    "#   Hj << (px/c2), (py/c2), 0, 0,\n",
    "#       -(py/c1), (px/c1), 0, 0,\n",
    "#       py*(vx*py - vy*px)/c3, px*(px*vy - py*vx)/c3, px/c2, py/c2;\n",
    "\n",
    "Hj = np.array([[ ]])\n",
    "    else: \n",
    "        meas = np.array([[row.c1], [row.c2]])\n",
    "    measurements.append(meas)"
   ]
  },
  {
   "cell_type": "markdown",
   "metadata": {},
   "source": [
    "####  Higher Dimensional Kalman Filter Invariant Matrices"
   ]
  },
  {
   "cell_type": "code",
   "execution_count": 255,
   "metadata": {},
   "outputs": [
    {
     "name": "stdout",
     "output_type": "stream",
     "text": [
      "I\n",
      " [[ 1.  0.  0.  0.]\n",
      " [ 0.  1.  0.  0.]\n",
      " [ 0.  0.  1.  0.]\n",
      " [ 0.  0.  0.  1.]] \n",
      "\n",
      "H\n",
      " [[ 1.  0.  0.  0.]\n",
      " [ 0.  1.  0.  0.]] \n",
      "\n",
      "F\n",
      " [[ 1.    0.    0.05  0.  ]\n",
      " [ 0.    1.    0.    0.05]\n",
      " [ 0.    0.    1.    0.  ]\n",
      " [ 0.    0.    0.    1.  ]] \n",
      "\n",
      "R\n",
      " [[ 0.0225  0.    ]\n",
      " [ 0.      0.0225]] \n",
      "\n",
      "Q\n",
      " [[  7.81250000e-06   0.00000000e+00   3.12500000e-04   0.00000000e+00]\n",
      " [  0.00000000e+00   7.81250000e-06   0.00000000e+00   3.12500000e-04]\n",
      " [  3.12500000e-04   0.00000000e+00   1.25000000e-02   0.00000000e+00]\n",
      " [  0.00000000e+00   3.12500000e-04   0.00000000e+00   1.25000000e-02]]\n"
     ]
    }
   ],
   "source": [
    "dt = 0.05\n",
    "I = np.identity(4)\n",
    "H = np.pad(np.identity(2),[(0,0),(0,2)], mode='constant')  # measurement\n",
    "R = np.diag([0.0225,0.0225]) # measurement uncertainty\n",
    "F = np.identity(4)+np.pad(np.identity(2)*dt,[(0,2),(2,0)], mode='constant')  # transition\n",
    "# process noise uncertainty\n",
    "G = np.array([[dt**2/2,0],[0,dt**2/2],[dt,0], [0,dt]])\n",
    "Q_noise = np.array([[5,0],[0,5]])\n",
    "Q = G @ Q_noise @ G.T\n",
    "print('I\\n', I, '\\n\\nH\\n', H, '\\n\\nF\\n', F, '\\n\\nR\\n', R ,'\\n\\nQ\\n', Q)"
   ]
  },
  {
   "cell_type": "code",
   "execution_count": null,
   "metadata": {},
   "outputs": [],
   "source": [
    "#   // pre-compute a set of terms to avoid repeated calculation\n",
    "c1 = px*px+py*py\n",
    "c2 = sqrt(c1)\n",
    "c3 = (c1*c2)\n",
    "\n",
    "#   // check division by zero\n",
    "#   if (fabs(c1) < 0.0001) {\n",
    "#     cout << \"CalculateJacobian () - Error - Division by Zero\" << endl;\n",
    "#     return Hj;\n",
    "#   }\n",
    "\n",
    "#   // compute the Jacobian matrix\n",
    "#   Hj << (px/c2), (py/c2), 0, 0,\n",
    "#       -(py/c1), (px/c1), 0, 0,\n",
    "#       py*(vx*py - vy*px)/c3, px*(px*vy - py*vx)/c3, px/c2, py/c2;\n",
    "\n",
    "Hj = np.array([[ ]])"
   ]
  },
  {
   "cell_type": "code",
   "execution_count": 265,
   "metadata": {
    "scrolled": true
   },
   "outputs": [
    {
     "data": {
      "text/plain": [
       "<matplotlib.collections.PathCollection at 0x11cf32470>"
      ]
     },
     "execution_count": 265,
     "metadata": {},
     "output_type": "execute_result"
    },
    {
     "data": {
      "image/png": "[encoded data removed]",
      "text/plain": [
       "<Figure size 460.8x403.2 with 1 Axes>"
      ]
     },
     "metadata": {},
     "output_type": "display_data"
    }
   ],
   "source": [
    "P = np.diag([1e2,1e2,1e3,1e3])  # covariance\n",
    "x = np.zeros((4,1))# initial state (location and velocity)\n",
    "\n",
    "filt = []\n",
    "for z in measurements:\n",
    "    # update\n",
    "    y = z - H @ x\n",
    "    S = R + H @ P @ H.T \n",
    "    K = P @ H.T @ np.linalg.inv(S)\n",
    "    x = x + K @ y\n",
    "    P = (I - K @ H) @ P\n",
    "    # predict\n",
    "    x = F @ x\n",
    "    P = F @ P @ F.T + Q\n",
    "    filt.append(x[:,0])\n",
    "\n",
    "filt = np.array(filt).T\n",
    "plt.scatter(filt[0], filt[1])"
   ]
  },
  {
   "cell_type": "code",
   "execution_count": null,
   "metadata": {},
   "outputs": [],
   "source": [
    "dt = 0.5\n",
    "P = np.diag([1,1,10000,10000])  # covariance\n",
    "F = np.identity(4)+np.pad(np.identity(2)*dt,[(0,2),(2,0)], mode='constant')  # transition\n",
    "H = np.pad(np.identity(2),[(0,0),(0,2)], mode='constant')  # measurement\n",
    "R = np.diag([0.025,0.025]) # measurement uncertainty\n",
    "x = np.zeros((4,1))# initial state (location and velocity)\n",
    "\n",
    "def update(z):\n",
    "    y = z - H @ x\n",
    "    print(y)\n",
    "#     S = (H @ P @ H.T) + R\n",
    "#     K = (P @ H.T) @ np.linalg.inv(S)\n",
    "#     x = x + (K @ y)\n",
    "#     P = (np.identity(4) - (K @ H)) @ P\n",
    "    \n",
    "    \n",
    "filt = []\n",
    "for ind, row in data.iterrows():\n",
    "    # get measurement\n",
    "    if row.c0 == 'R':\n",
    "        z = row.c1*np.array([[np.cos(row.c2)],[np.sin(row.c2)]])\n",
    "    else: \n",
    "        z = np.array([[row.c1], [row.c2]])\n",
    "    update(z)\n",
    "    # update \n",
    "#     y = z - H @ x\n",
    "#     S = (H @ P @ H.T) + R\n",
    "#     K = (P @ H.T) @ np.linalg.inv(S)\n",
    "#     print(x, '\\n')\n",
    "#     x = x + (K @ y)\n",
    "#     print(x, '\\n\\n')\n",
    "#     P = (np.identity(4) - (K @ H)) @ P\n",
    "#     # predict\n",
    "#     x = F @ x\n",
    "#     P = F @ P @ F.T \n",
    "#     filt.append((H@x).ravel())\n",
    "    \n",
    "filt = np.array(filt).T\n",
    "plt.scatter(filt[0], filt[1]);\n"
   ]
  },
  {
   "cell_type": "code",
   "execution_count": null,
   "metadata": {},
   "outputs": [],
   "source": []
  },
  {
   "cell_type": "code",
   "execution_count": 1043,
   "metadata": {},
   "outputs": [
    {
     "data": {
      "text/plain": [
       "array([ 3.,  2.,  1.,  0.])"
      ]
     },
     "execution_count": 1043,
     "metadata": {},
     "output_type": "execute_result"
    }
   ],
   "source": [
    "F @ np.array([2,2,1,0])\n",
    "# z.shape\n",
    "# M = np.array([[2,0],[0,2]])\n",
    "# # np.linalg.inv(M)\n",
    "# M = M @ np.ones((2,2))\n",
    "# M"
   ]
  },
  {
   "cell_type": "code",
   "execution_count": 422,
   "metadata": {},
   "outputs": [
    {
     "data": {
      "text/html": [
       "<div>\n",
       "<style scoped>\n",
       "    .dataframe tbody tr th:only-of-type {\n",
       "        vertical-align: middle;\n",
       "    }\n",
       "\n",
       "    .dataframe tbody tr th {\n",
       "        vertical-align: top;\n",
       "    }\n",
       "\n",
       "    .dataframe thead th {\n",
       "        text-align: right;\n",
       "    }\n",
       "</style>\n",
       "<table border=\"1\" class=\"dataframe\">\n",
       "  <thead>\n",
       "    <tr style=\"text-align: right;\">\n",
       "      <th></th>\n",
       "      <th>sensor_type</th>\n",
       "      <th>rho_measured</th>\n",
       "      <th>phi_measured</th>\n",
       "      <th>rhodot_measured</th>\n",
       "      <th>timestamp</th>\n",
       "      <th>x_groundtruth</th>\n",
       "      <th>y_groundtruth</th>\n",
       "      <th>vx_groundtruth</th>\n",
       "      <th>vy_groundtruth</th>\n",
       "      <th>yaw_groundtruth</th>\n",
       "      <th>yawrate_groundtruth</th>\n",
       "    </tr>\n",
       "  </thead>\n",
       "  <tbody>\n",
       "    <tr>\n",
       "      <th>1</th>\n",
       "      <td>R</td>\n",
       "      <td>1.014892</td>\n",
       "      <td>0.554329</td>\n",
       "      <td>4.892807</td>\n",
       "      <td>1.477010e+15</td>\n",
       "      <td>0.859997</td>\n",
       "      <td>0.600045</td>\n",
       "      <td>5.199747</td>\n",
       "      <td>0.001797</td>\n",
       "      <td>0.000346</td>\n",
       "      <td>0.013822</td>\n",
       "    </tr>\n",
       "    <tr>\n",
       "      <th>3</th>\n",
       "      <td>R</td>\n",
       "      <td>1.047505</td>\n",
       "      <td>0.389240</td>\n",
       "      <td>4.511325</td>\n",
       "      <td>1.477010e+15</td>\n",
       "      <td>1.379955</td>\n",
       "      <td>0.600629</td>\n",
       "      <td>5.198979</td>\n",
       "      <td>0.010778</td>\n",
       "      <td>0.002073</td>\n",
       "      <td>0.027634</td>\n",
       "    </tr>\n",
       "    <tr>\n",
       "      <th>5</th>\n",
       "      <td>R</td>\n",
       "      <td>1.698300</td>\n",
       "      <td>0.298280</td>\n",
       "      <td>5.209986</td>\n",
       "      <td>1.477010e+15</td>\n",
       "      <td>1.899823</td>\n",
       "      <td>0.602470</td>\n",
       "      <td>5.197661</td>\n",
       "      <td>0.026932</td>\n",
       "      <td>0.005182</td>\n",
       "      <td>0.041430</td>\n",
       "    </tr>\n",
       "    <tr>\n",
       "      <th>7</th>\n",
       "      <td>R</td>\n",
       "      <td>2.044382</td>\n",
       "      <td>0.276002</td>\n",
       "      <td>5.043867</td>\n",
       "      <td>1.477010e+15</td>\n",
       "      <td>2.419540</td>\n",
       "      <td>0.606284</td>\n",
       "      <td>5.195728</td>\n",
       "      <td>0.050239</td>\n",
       "      <td>0.009669</td>\n",
       "      <td>0.055199</td>\n",
       "    </tr>\n",
       "    <tr>\n",
       "      <th>9</th>\n",
       "      <td>R</td>\n",
       "      <td>2.990916</td>\n",
       "      <td>0.217668</td>\n",
       "      <td>5.191807</td>\n",
       "      <td>1.477010e+15</td>\n",
       "      <td>2.939043</td>\n",
       "      <td>0.612786</td>\n",
       "      <td>5.193090</td>\n",
       "      <td>0.080668</td>\n",
       "      <td>0.015532</td>\n",
       "      <td>0.068933</td>\n",
       "    </tr>\n",
       "  </tbody>\n",
       "</table>\n",
       "</div>"
      ],
      "text/plain": [
       "  sensor_type  rho_measured  phi_measured  rhodot_measured     timestamp  \\\n",
       "1           R      1.014892      0.554329         4.892807  1.477010e+15   \n",
       "3           R      1.047505      0.389240         4.511325  1.477010e+15   \n",
       "5           R      1.698300      0.298280         5.209986  1.477010e+15   \n",
       "7           R      2.044382      0.276002         5.043867  1.477010e+15   \n",
       "9           R      2.990916      0.217668         5.191807  1.477010e+15   \n",
       "\n",
       "   x_groundtruth  y_groundtruth  vx_groundtruth  vy_groundtruth  \\\n",
       "1       0.859997       0.600045        5.199747        0.001797   \n",
       "3       1.379955       0.600629        5.198979        0.010778   \n",
       "5       1.899823       0.602470        5.197661        0.026932   \n",
       "7       2.419540       0.606284        5.195728        0.050239   \n",
       "9       2.939043       0.612786        5.193090        0.080668   \n",
       "\n",
       "   yaw_groundtruth  yawrate_groundtruth  \n",
       "1         0.000346             0.013822  \n",
       "3         0.002073             0.027634  \n",
       "5         0.005182             0.041430  \n",
       "7         0.009669             0.055199  \n",
       "9         0.015532             0.068933  "
      ]
     },
     "execution_count": 422,
     "metadata": {},
     "output_type": "execute_result"
    }
   ],
   "source": [
    "radar[:5]"
   ]
  },
  {
   "cell_type": "code",
   "execution_count": 451,
   "metadata": {},
   "outputs": [
    {
     "data": {
      "text/plain": [
       "9.0134804376450006"
      ]
     },
     "execution_count": 451,
     "metadata": {},
     "output_type": "execute_result"
    }
   ],
   "source": [
    "meas = np.array([2.939043,0.612786,5.193090,0.080668])\n",
    "x,y,vx,vy = meas\n",
    "c1 = np.sum(x**2+y**2)\n",
    "c2 = np.sqrt(c1)\n",
    "c3 = (c1*c2)\n",
    "Hj = np.asarray([\n",
    "    [x/c2, y/c2, 0 ,0 ],\n",
    "    [-y/c1, x/c1, 0, 0],\n",
    "    [y*(vx*y-vy*x)/c3, x*(x*vy - y*vx)/c3, x/c2, y/c2]])\n",
    "\n",
    "\n",
    "c1\n",
    "\n",
    "# 2.990916\t0.217668\t5.191807\n",
    "# input 1.379955\t0.600629\t5.198979\t0.010778\n",
    "# expected output 1.047505\t0.389240\t4.511325\n",
    "# actual output 1.50500199, 0., 4.77130973\n",
    "\n",
    "# Hj @ meas\n",
    "#   Hj << (px/c2), (py/c2), 0, 0,\n",
    "#       -(py/c1), (px/c1), 0, 0,\n",
    "#       py*(vx*py - vy*px)/c3, px*(px*vy - py*vx)/c3, px/c2, py/c2;"
   ]
  }
 ],
 "metadata": {
  "kernelspec": {
   "display_name": "Python [conda env:carnd-term1]",
   "language": "python",
   "name": "conda-env-carnd-term1-py"
  },
  "language_info": {
   "codemirror_mode": {
    "name": "ipython",
    "version": 3
   },
   "file_extension": ".py",
   "mimetype": "text/x-python",
   "name": "python",
   "nbconvert_exporter": "python",
   "pygments_lexer": "ipython3",
   "version": "3.5.2"
  },
  "widgets": {
   "state": {},
   "version": "1.1.2"
  }
 },
 "nbformat": 4,
 "nbformat_minor": 2
}
